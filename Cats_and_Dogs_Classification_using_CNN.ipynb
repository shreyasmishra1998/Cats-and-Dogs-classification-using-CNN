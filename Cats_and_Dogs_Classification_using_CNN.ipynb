{
  "nbformat": 4,
  "nbformat_minor": 0,
  "metadata": {
    "colab": {
      "name": "Cats and Dogs Classification using CNN.ipynb",
      "provenance": [],
      "collapsed_sections": [],
      "machine_shape": "hm"
    },
    "kernelspec": {
      "name": "python3",
      "display_name": "Python 3"
    },
    "accelerator": "GPU"
  },
  "cells": [
    {
      "cell_type": "code",
      "metadata": {
        "id": "upIS3mIHMKbp",
        "colab_type": "code",
        "colab": {}
      },
      "source": [
        "# Colab library to upload files to notebook\n",
        "from google.colab import files\n",
        "\n",
        "# Install Kaggle library\n",
        "!pip install -q kaggle\n",
        "\n",
        "# Upload kaggle API key file\n",
        "uploaded = files.upload()\n",
        "!pip install -q kaggle\n",
        "!mkdir -p ~/.kaggle\n",
        "!cp kaggle.json ~/.kaggle/\n",
        "!ls ~/.kaggle\n",
        "!chmod 600 /root/.kaggle/kaggle.json\n",
        "!pip uninstall -y kaggle\n",
        "!pip install --upgrade pip\n",
        "!pip install kaggle==1.5.6\n",
        "!kaggle -v\n",
        "!kaggle competitions download -c dogs-vs-cats"
      ],
      "execution_count": 0,
      "outputs": []
    },
    {
      "cell_type": "code",
      "metadata": {
        "id": "MBCYEpSfxr3M",
        "colab_type": "code",
        "colab": {}
      },
      "source": [
        "!unzip \\*.zip"
      ],
      "execution_count": 0,
      "outputs": []
    },
    {
      "cell_type": "code",
      "metadata": {
        "id": "Eyb5AFbJdwQs",
        "colab_type": "code",
        "colab": {}
      },
      "source": [
        "!unzip \\*.zip"
      ],
      "execution_count": 0,
      "outputs": []
    },
    {
      "cell_type": "code",
      "metadata": {
        "id": "sauhLxooryda",
        "colab_type": "code",
        "colab": {}
      },
      "source": [
        "import os\n",
        "import pandas as pd\n",
        "from sklearn.model_selection import train_test_split\n",
        "import matplotlib.pyplot as plt\n",
        "import random\n",
        "from keras.preprocessing.image import ImageDataGenerator, load_img\n",
        "\n",
        "categories = []\n",
        "files = os.listdir('/content/train/')\n",
        "for f in files:\n",
        "    category = f.split('.')[0]\n",
        "    if category == 'dog':\n",
        "        categories.append(1)\n",
        "    else:\n",
        "        categories.append(0)\n",
        "\n",
        "df = pd.DataFrame({\n",
        "    'filename': files,\n",
        "    'category': categories\n",
        "})\n",
        "df[\"category\"] = df[\"category\"].replace({0: 'cat', 1: 'dog'}) \n",
        "train_df, validate_df = train_test_split(df, test_size=0.20, random_state=42)\n",
        "train_df = train_df.reset_index(drop=True)\n",
        "validate_df = validate_df.reset_index(drop=True)"
      ],
      "execution_count": 0,
      "outputs": []
    },
    {
      "cell_type": "code",
      "metadata": {
        "id": "bwO6ZCQC1OG3",
        "colab_type": "code",
        "colab": {}
      },
      "source": [
        "import keras\n",
        "import tensorflow\n",
        "from keras.utils.np_utils import to_categorical\n",
        "from keras.preprocessing.image import ImageDataGenerator\n",
        "from keras.models import Sequential\n",
        "from keras.layers import Dense,Dropout,Activation,Flatten,BatchNormalization,Conv2D,MaxPool2D,MaxPooling2D\n",
        "import numpy as np\n",
        "from sklearn.model_selection import train_test_split\n",
        "total_train = train_df.shape[0]\n",
        "total_validate = validate_df.shape[0]\n",
        "batch_size=15\n",
        "IMAGE_SIZE = (128,128)\n",
        "IMAGE_CHANNELS = 3"
      ],
      "execution_count": 0,
      "outputs": []
    },
    {
      "cell_type": "code",
      "metadata": {
        "id": "Z5IASvS537n4",
        "colab_type": "code",
        "outputId": "808e8836-c25a-4184-c276-857794340501",
        "colab": {
          "base_uri": "https://localhost:8080/",
          "height": 411
        }
      },
      "source": [
        "train_datagen = ImageDataGenerator(\n",
        "    rotation_range=15,\n",
        "    rescale=1./255,\n",
        "    shear_range=0.1,\n",
        "    zoom_range=0.2,\n",
        "    horizontal_flip=True,\n",
        "    width_shift_range=0.1,\n",
        "    height_shift_range=0.1\n",
        ")\n",
        "\n",
        "train_generator = train_datagen.flow_from_dataframe(\n",
        "    train_df, \n",
        "    \"/content/train/\", \n",
        "    x_col='filename',\n",
        "    y_col='category',\n",
        "    target_size=IMAGE_SIZE,\n",
        "    class_mode='categorical',\n",
        "    batch_size=batch_size\n",
        ")\n",
        "validation_datagen = ImageDataGenerator(rescale=1./255)\n",
        "validation_generator = validation_datagen.flow_from_dataframe(\n",
        "    validate_df, \n",
        "    \"/content/train/\", \n",
        "    x_col='filename',\n",
        "    y_col='category',\n",
        "    target_size=IMAGE_SIZE,\n",
        "    class_mode='categorical',\n",
        "    batch_size=batch_size\n",
        ")\n",
        "\n",
        "model = Sequential()\n",
        "\n",
        "model.add(Conv2D(32, (3, 3), activation='relu', input_shape=(128,128,3)))\n",
        "model.add(BatchNormalization())\n",
        "model.add(MaxPooling2D(pool_size=(2, 2)))\n",
        "model.add(Dropout(0.25))\n",
        "\n",
        "model.add(Conv2D(64, (3, 3), activation='relu'))\n",
        "model.add(BatchNormalization())\n",
        "model.add(MaxPooling2D(pool_size=(2, 2)))\n",
        "model.add(Dropout(0.25))\n",
        "\n",
        "model.add(Conv2D(128, (3, 3), activation='relu'))\n",
        "model.add(BatchNormalization())\n",
        "model.add(MaxPooling2D(pool_size=(2, 2)))\n",
        "model.add(Dropout(0.25))\n",
        "\n",
        "model.add(Flatten())\n",
        "model.add(Dense(512, activation='relu'))\n",
        "model.add(BatchNormalization())\n",
        "model.add(Dropout(0.5))\n",
        "model.add(Dense(2, activation='softmax')) # 2 because we have cat and dog classes\n",
        "\n",
        "model.compile(loss='categorical_crossentropy', optimizer='rmsprop', metrics=['accuracy'])\n",
        "\n",
        "\n",
        "history = model.fit_generator(\n",
        "    train_generator, \n",
        "    epochs=10,\n",
        "    validation_data=validation_generator,\n",
        "    validation_steps=total_validate//batch_size,\n",
        "    steps_per_epoch=total_train//batch_size\n",
        ")"
      ],
      "execution_count": 57,
      "outputs": [
        {
          "output_type": "stream",
          "text": [
            "Found 20000 validated image filenames belonging to 2 classes.\n",
            "Found 5000 validated image filenames belonging to 2 classes.\n",
            "Epoch 1/10\n",
            "1333/1333 [==============================] - 168s 126ms/step - loss: 0.7512 - accuracy: 0.6268 - val_loss: 0.5517 - val_accuracy: 0.7119\n",
            "Epoch 2/10\n",
            "1333/1333 [==============================] - 162s 121ms/step - loss: 0.5627 - accuracy: 0.7162 - val_loss: 0.8758 - val_accuracy: 0.6209\n",
            "Epoch 3/10\n",
            "1333/1333 [==============================] - 155s 117ms/step - loss: 0.5069 - accuracy: 0.7569 - val_loss: 0.4197 - val_accuracy: 0.7597\n",
            "Epoch 4/10\n",
            "1333/1333 [==============================] - 157s 118ms/step - loss: 0.4741 - accuracy: 0.7794 - val_loss: 0.3357 - val_accuracy: 0.7669\n",
            "Epoch 5/10\n",
            "1333/1333 [==============================] - 155s 116ms/step - loss: 0.4444 - accuracy: 0.7964 - val_loss: 0.9783 - val_accuracy: 0.7145\n",
            "Epoch 6/10\n",
            "1333/1333 [==============================] - 156s 117ms/step - loss: 0.4194 - accuracy: 0.8130 - val_loss: 0.1669 - val_accuracy: 0.8447\n",
            "Epoch 7/10\n",
            "1333/1333 [==============================] - 156s 117ms/step - loss: 0.4028 - accuracy: 0.8211 - val_loss: 0.6584 - val_accuracy: 0.7838\n",
            "Epoch 8/10\n",
            "1333/1333 [==============================] - 156s 117ms/step - loss: 0.3872 - accuracy: 0.8280 - val_loss: 0.6797 - val_accuracy: 0.7093\n",
            "Epoch 9/10\n",
            "1333/1333 [==============================] - 160s 120ms/step - loss: 0.3776 - accuracy: 0.8351 - val_loss: 0.4310 - val_accuracy: 0.8407\n",
            "Epoch 10/10\n",
            "1333/1333 [==============================] - 155s 116ms/step - loss: 0.3650 - accuracy: 0.8397 - val_loss: 0.1122 - val_accuracy: 0.8826\n"
          ],
          "name": "stdout"
        }
      ]
    }
  ]
}